{
 "cells": [
  {
   "cell_type": "code",
   "execution_count": 1,
   "id": "3934a87f-d390-4c35-873f-2927c9f5c699",
   "metadata": {},
   "outputs": [],
   "source": [
    "#question no 1\n",
    "#Guido van Roussum developed the python programming language"
   ]
  },
  {
   "cell_type": "code",
   "execution_count": 2,
   "id": "9b0f042d-09e7-4c02-8b67-3d8fcbac79eb",
   "metadata": {},
   "outputs": [],
   "source": [
    "#question no 2\n",
    "#python support object oriented programming and structered programing"
   ]
  },
  {
   "cell_type": "code",
   "execution_count": 3,
   "id": "a37fba68-2def-48ee-b9ce-c8b0087cd6de",
   "metadata": {},
   "outputs": [],
   "source": [
    "#question no 3\n",
    "# yes python is a case sensitive when dealing with a identifeirs"
   ]
  },
  {
   "cell_type": "code",
   "execution_count": 4,
   "id": "67e9d1a1-b9d9-4ee7-9b5c-0a21999e1a85",
   "metadata": {},
   "outputs": [],
   "source": [
    "#question no 4\n",
    "# .pyc:This is the extension for compiled python code programe\n"
   ]
  },
  {
   "cell_type": "code",
   "execution_count": 5,
   "id": "5041dbf0-9212-45d9-953f-21d98bdd5da5",
   "metadata": {},
   "outputs": [],
   "source": [
    "#question no 5\n",
    "#python is interpreted"
   ]
  },
  {
   "cell_type": "code",
   "execution_count": 6,
   "id": "e99e6e84-4388-41c2-b52b-fdcd5f2c3ae0",
   "metadata": {},
   "outputs": [],
   "source": [
    "#question no 6\n",
    "# python is a simple language \n",
    "# 1+1 Will directly give you 2"
   ]
  },
  {
   "cell_type": "code",
   "execution_count": 7,
   "id": "a30c33fc-3dd4-4816-811b-7643292d29d1",
   "metadata": {},
   "outputs": [],
   "source": [
    "#question no 7\n",
    "# character is hashtag"
   ]
  },
  {
   "cell_type": "code",
   "execution_count": 8,
   "id": "fad5910b-a68b-4dda-af8d-2e2c0e257438",
   "metadata": {},
   "outputs": [],
   "source": [
    "#question no 8\n",
    "# sus.version to print the version of a python\n"
   ]
  },
  {
   "cell_type": "code",
   "execution_count": 9,
   "id": "9a0df984-82fe-4c0c-a226-7079a028ea35",
   "metadata": {},
   "outputs": [],
   "source": [
    "#question no 9\n",
    "# using a construct called lamda function"
   ]
  },
  {
   "cell_type": "code",
   "execution_count": 11,
   "id": "b51ab039-20b7-46e4-a55f-f88da5b813d9",
   "metadata": {},
   "outputs": [],
   "source": [
    "#question no 10\n",
    "# is today a standard tool for installing oython package and their dependencies in a secure manner\n"
   ]
  },
  {
   "cell_type": "code",
   "execution_count": 12,
   "id": "3d0ff82f-a1e3-4f3f-b092-b9c533ce6f59",
   "metadata": {},
   "outputs": [],
   "source": [
    "#question no 11\n",
    "# some built in fxns are input, append, extend,replace,etc\n"
   ]
  },
  {
   "cell_type": "code",
   "execution_count": 13,
   "id": "21e4d6df-1208-426e-b1e0-dab70366a82d",
   "metadata": {},
   "outputs": [],
   "source": [
    "#question no 12\n",
    "# An identifier can have a maximum length of 79 charaters in python"
   ]
  },
  {
   "cell_type": "code",
   "execution_count": 14,
   "id": "e0afa110-a21f-46a6-811e-7a65ee9552a6",
   "metadata": {},
   "outputs": [],
   "source": [
    "#question no 13\n",
    "#this is a high level language and easy to understand\n"
   ]
  },
  {
   "cell_type": "code",
   "execution_count": 15,
   "id": "2df38dbd-9386-441a-9943-9e3b5e4fbf97",
   "metadata": {},
   "outputs": [],
   "source": [
    "#question no 14\n",
    "# Memory management in pythin involves a private heap containg all python and data structure \n"
   ]
  },
  {
   "cell_type": "code",
   "execution_count": 16,
   "id": "6aaddd2e-353a-4830-bb13-b118321ea206",
   "metadata": {},
   "outputs": [],
   "source": [
    "#question no 15\n",
    "#with help of youtube and google we can do so\n"
   ]
  },
  {
   "cell_type": "code",
   "execution_count": 17,
   "id": "3499f4e6-0436-4dbd-8dd4-da5bb31482b7",
   "metadata": {},
   "outputs": [],
   "source": [
    "#question no 16\n",
    "# yes indentation is required in python \n"
   ]
  },
  {
   "cell_type": "code",
   "execution_count": null,
   "id": "a6e98cfa-38d0-4a6a-8da0-9786b3870da3",
   "metadata": {},
   "outputs": [],
   "source": []
  }
 ],
 "metadata": {
  "kernelspec": {
   "display_name": "Python 3 (ipykernel)",
   "language": "python",
   "name": "python3"
  },
  "language_info": {
   "codemirror_mode": {
    "name": "ipython",
    "version": 3
   },
   "file_extension": ".py",
   "mimetype": "text/x-python",
   "name": "python",
   "nbconvert_exporter": "python",
   "pygments_lexer": "ipython3",
   "version": "3.10.8"
  }
 },
 "nbformat": 4,
 "nbformat_minor": 5
}
